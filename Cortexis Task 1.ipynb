{
 "cells": [
  {
   "cell_type": "markdown",
   "id": "35ac1532-208e-44c9-988f-d2015ef03aa9",
   "metadata": {},
   "source": [
    "# 🎬 Movie Recommendation System\n",
    "\n",
    "This project implements a simple **Movie Recommendation System** using the MovieLens-style dataset.  \n",
    "It uses **Content-Based Filtering** to recommend movies similar to the one entered by the user.\n",
    "\n",
    "---\n",
    "\n",
    "## 📂 Dataset\n",
    "We use a small sample dataset `movies.csv` that contains:\n",
    "- `movieId`\n",
    "- `title`\n",
    "- `genres`\n",
    "\n",
    "Example:\n",
    "\n",
    "```csv\n",
    "movieId,title,genres\n",
    "1,Toy Story (1995),Adventure|Animation|Children|Comedy|Fantasy\n",
    "2,Jumanji (1995),Adventure|Children|Fantasy\n",
    "3,Grumpier Old Men (1995),Comedy|Romance\n"
   ]
  },
  {
   "cell_type": "code",
   "execution_count": 1,
   "id": "17ebb241-25d1-4c67-8edf-ce4ace22fdb5",
   "metadata": {},
   "outputs": [
    {
     "name": "stdin",
     "output_type": "stream",
     "text": [
      "🎬 Enter a movie you like:  The Matrix\n"
     ]
    },
    {
     "name": "stdout",
     "output_type": "stream",
     "text": [
      "\n",
      "✅ You may also like:\n",
      "1. Inception\n",
      "2. The Prestige\n",
      "3. Interstellar\n",
      "4. The Dark Knight\n",
      "5. Memento\n"
     ]
    }
   ],
   "source": [
    "# Task 3: Movie Recommendation System (Content-Based Filtering)\n",
    "\n",
    "# Import libraries\n",
    "import pandas as pd\n",
    "from sklearn.feature_extraction.text import TfidfVectorizer\n",
    "from sklearn.metrics.pairwise import cosine_similarity\n",
    "\n",
    "# ---------------------------\n",
    "# 1. Load Dataset\n",
    "# ---------------------------\n",
    "# Download MovieLens dataset from Kaggle (movies.csv + ratings.csv)\n",
    "movies = pd.read_csv(\"movies.csv\")   # contains movieId, title, genres\n",
    "\n",
    "# ---------------------------\n",
    "# 2. Preprocessing\n",
    "# ---------------------------\n",
    "# Fill missing values in genres\n",
    "movies['genres'] = movies['genres'].fillna('')\n",
    "\n",
    "# Create TF-IDF Matrix for genres\n",
    "tfidf = TfidfVectorizer(stop_words='english')\n",
    "tfidf_matrix = tfidf.fit_transform(movies['genres'])\n",
    "\n",
    "# Compute similarity matrix\n",
    "cosine_sim = cosine_similarity(tfidf_matrix, tfidf_matrix)\n",
    "\n",
    "# Reset index to map between titles and indices\n",
    "indices = pd.Series(movies.index, index=movies['title']).drop_duplicates()\n",
    "\n",
    "# ---------------------------\n",
    "# 3. Recommendation Function\n",
    "# ---------------------------\n",
    "def recommend_movies(title, num_recommendations=5):\n",
    "    if title not in indices:\n",
    "        return f\"❌ Movie '{title}' not found in dataset.\"\n",
    "\n",
    "    idx = indices[title]  # index of the movie\n",
    "    sim_scores = list(enumerate(cosine_sim[idx]))\n",
    "    sim_scores = sorted(sim_scores, key=lambda x: x[1], reverse=True)\n",
    "    sim_scores = sim_scores[1:num_recommendations+1]  # skip the movie itself\n",
    "\n",
    "    movie_indices = [i[0] for i in sim_scores]\n",
    "    return movies['title'].iloc[movie_indices].tolist()\n",
    "\n",
    "# ---------------------------\n",
    "# 4. User Input\n",
    "# ---------------------------\n",
    "user_movie = input(\"🎬 Enter a movie you like: \")\n",
    "recommendations = recommend_movies(user_movie, 5)\n",
    "\n",
    "print(\"\\n✅ You may also like:\")\n",
    "for i, rec in enumerate(recommendations, start=1):\n",
    "    print(f\"{i}. {rec}\")\n"
   ]
  },
  {
   "cell_type": "code",
   "execution_count": null,
   "id": "c27b3563-56d0-470a-bb12-f1b900dcd80c",
   "metadata": {},
   "outputs": [],
   "source": []
  }
 ],
 "metadata": {
  "kernelspec": {
   "display_name": "Python 3 (ipykernel)",
   "language": "python",
   "name": "python3"
  },
  "language_info": {
   "codemirror_mode": {
    "name": "ipython",
    "version": 3
   },
   "file_extension": ".py",
   "mimetype": "text/x-python",
   "name": "python",
   "nbconvert_exporter": "python",
   "pygments_lexer": "ipython3",
   "version": "3.13.5"
  }
 },
 "nbformat": 4,
 "nbformat_minor": 5
}
